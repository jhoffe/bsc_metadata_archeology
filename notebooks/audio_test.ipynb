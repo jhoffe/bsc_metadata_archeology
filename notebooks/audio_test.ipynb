{
 "cells": [
  {
   "cell_type": "code",
   "execution_count": 1,
   "metadata": {},
   "outputs": [],
   "source": [
    "import os\n"
   ]
  },
  {
   "cell_type": "code",
   "execution_count": 5,
   "metadata": {},
   "outputs": [
    {
     "data": {
      "text/plain": [
       "['right',\n",
       " 'eight',\n",
       " 'cat',\n",
       " 'tree',\n",
       " 'backward',\n",
       " 'learn',\n",
       " 'bed',\n",
       " 'happy',\n",
       " 'go',\n",
       " '.DS_Store',\n",
       " 'validation_list.txt',\n",
       " 'LICENSE',\n",
       " 'dog',\n",
       " 'no',\n",
       " 'wow',\n",
       " 'follow',\n",
       " 'nine',\n",
       " 'left',\n",
       " 'stop',\n",
       " 'three',\n",
       " '_background_noise_',\n",
       " 'README.md',\n",
       " 'sheila',\n",
       " 'one',\n",
       " 'bird',\n",
       " 'zero',\n",
       " 'seven',\n",
       " 'up',\n",
       " 'visual',\n",
       " 'marvin',\n",
       " 'two',\n",
       " 'house',\n",
       " 'down',\n",
       " 'six',\n",
       " 'yes',\n",
       " 'on',\n",
       " 'testing_list.txt',\n",
       " 'five',\n",
       " 'forward',\n",
       " 'off',\n",
       " 'four']"
      ]
     },
     "execution_count": 5,
     "metadata": {},
     "output_type": "execute_result"
    }
   ],
   "source": [
    "os.listdir('../data/raw/speechcommands/SpeechCommands/speech_commands_v0.02/')"
   ]
  },
  {
   "cell_type": "code",
   "execution_count": null,
   "metadata": {},
   "outputs": [],
   "source": []
  }
 ],
 "metadata": {
  "kernelspec": {
   "display_name": "bsc",
   "language": "python",
   "name": "python3"
  },
  "language_info": {
   "codemirror_mode": {
    "name": "ipython",
    "version": 3
   },
   "file_extension": ".py",
   "mimetype": "text/x-python",
   "name": "python",
   "nbconvert_exporter": "python",
   "pygments_lexer": "ipython3",
   "version": "3.10.9"
  },
  "orig_nbformat": 4
 },
 "nbformat": 4,
 "nbformat_minor": 2
}
