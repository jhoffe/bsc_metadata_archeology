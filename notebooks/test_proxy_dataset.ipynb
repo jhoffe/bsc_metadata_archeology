{
 "cells": [
  {
   "cell_type": "code",
   "execution_count": 13,
   "metadata": {
    "collapsed": true
   },
   "outputs": [],
   "source": [
    "import pyarrow.parquet as pq\n",
    "import pandas as pd\n",
    "import numpy as np\n",
    "import matplotlib.pyplot as plt\n",
    "import seaborn as sns\n",
    "import os\n",
    "import torch\n",
    "from scipy.stats import spearmanr\n",
    "\n",
    "# set sns style\n",
    "sns.set_style(\"whitegrid\")"
   ]
  },
  {
   "cell_type": "code",
   "execution_count": 2,
   "metadata": {
    "collapsed": false
   },
   "outputs": [],
   "source": [
    "class ProxyDataset:\n",
    "    def __init__(self, proxy_dataset_path: os.PathLike):\n",
    "        self.proxy_df = None\n",
    "        self.proxy_dataset_path = proxy_dataset_path\n",
    "        self.proxy_dataset = pq.ParquetDataset(proxy_dataset_path)\n",
    "\n",
    "    def load(self, columns: list = None):\n",
    "        self.proxy_df = self.proxy_dataset.read(columns=columns).to_pandas()\n",
    "\n",
    "        return self.proxy_df\n",
    "\n",
    "    def calculate_proxy_score_per_epoch(self, epoch: int, proxy_name: str):\n",
    "        return self.proxy_df.loc[self.proxy_df['epoch'] == epoch, proxy_name].mean()"
   ]
  },
  {
   "cell_type": "code",
   "execution_count": 3,
   "metadata": {
    "collapsed": false
   },
   "outputs": [],
   "source": [
    "proxy_dataset = ProxyDataset(\"../models/proxies/cifar10-proxy-20230517_0839\")\n",
    "\n",
    "proxy_df = proxy_dataset.load()\n",
    "\n",
    "proxy_df[\"epoch\"] = proxy_df[\"epoch\"].astype(int)\n",
    "\n",
    "proxy_df.sort_values(by=[\"epoch\", \"sample_indices\"], inplace=True)"
   ]
  },
  {
   "cell_type": "code",
   "execution_count": 4,
   "metadata": {
    "collapsed": false
   },
   "outputs": [],
   "source": [
    "def calculate_proxy_score_per_epoch(proxy_df: pd.DataFrame, proxy_name: str):\n",
    "    return proxy_df.groupby([\"sample_indices\"]).agg({proxy_name: \"cumsum\"})"
   ]
  },
  {
   "cell_type": "code",
   "execution_count": 5,
   "metadata": {
    "collapsed": false
   },
   "outputs": [],
   "source": [
    "proxy_df[\"p_L_cs\"] = calculate_proxy_score_per_epoch(proxy_df, \"p_L\")\n",
    "proxy_df[\"p_max_cs\"] = calculate_proxy_score_per_epoch(proxy_df, \"p_max\")\n",
    "proxy_df[\"H_cs\"] = calculate_proxy_score_per_epoch(proxy_df, \"H\")\n",
    "proxy_df[\"loss_cs\"] = calculate_proxy_score_per_epoch(proxy_df, \"loss\")"
   ]
  },
  {
   "cell_type": "code",
   "execution_count": 6,
   "metadata": {
    "collapsed": false
   },
   "outputs": [
    {
     "data": {
      "text/html": [
       "<div>\n",
       "<style scoped>\n",
       "    .dataframe tbody tr th:only-of-type {\n",
       "        vertical-align: middle;\n",
       "    }\n",
       "\n",
       "    .dataframe tbody tr th {\n",
       "        vertical-align: top;\n",
       "    }\n",
       "\n",
       "    .dataframe thead th {\n",
       "        text-align: right;\n",
       "    }\n",
       "</style>\n",
       "<table border=\"1\" class=\"dataframe\">\n",
       "  <thead>\n",
       "    <tr style=\"text-align: right;\">\n",
       "      <th></th>\n",
       "      <th>y</th>\n",
       "      <th>sample_indices</th>\n",
       "      <th>correctly_predicted</th>\n",
       "      <th>p_L</th>\n",
       "      <th>p_max</th>\n",
       "      <th>H</th>\n",
       "      <th>loss</th>\n",
       "      <th>epoch</th>\n",
       "      <th>p_L_cs</th>\n",
       "      <th>p_max_cs</th>\n",
       "      <th>H_cs</th>\n",
       "      <th>loss_cs</th>\n",
       "    </tr>\n",
       "  </thead>\n",
       "  <tbody>\n",
       "    <tr>\n",
       "      <th>6268</th>\n",
       "      <td>6</td>\n",
       "      <td>0</td>\n",
       "      <td>False</td>\n",
       "      <td>0.101929</td>\n",
       "      <td>0.114563</td>\n",
       "      <td>2.296875</td>\n",
       "      <td>2.283203</td>\n",
       "      <td>0</td>\n",
       "      <td>0.101929</td>\n",
       "      <td>0.114563</td>\n",
       "      <td>2.296875</td>\n",
       "      <td>2.283203</td>\n",
       "    </tr>\n",
       "    <tr>\n",
       "      <th>13539</th>\n",
       "      <td>9</td>\n",
       "      <td>1</td>\n",
       "      <td>True</td>\n",
       "      <td>0.112671</td>\n",
       "      <td>0.112671</td>\n",
       "      <td>2.296875</td>\n",
       "      <td>2.183594</td>\n",
       "      <td>0</td>\n",
       "      <td>0.112671</td>\n",
       "      <td>0.112671</td>\n",
       "      <td>2.296875</td>\n",
       "      <td>2.183594</td>\n",
       "    </tr>\n",
       "    <tr>\n",
       "      <th>15896</th>\n",
       "      <td>9</td>\n",
       "      <td>2</td>\n",
       "      <td>False</td>\n",
       "      <td>0.092957</td>\n",
       "      <td>0.114685</td>\n",
       "      <td>2.292969</td>\n",
       "      <td>2.375000</td>\n",
       "      <td>0</td>\n",
       "      <td>0.092957</td>\n",
       "      <td>0.114685</td>\n",
       "      <td>2.292969</td>\n",
       "      <td>2.375000</td>\n",
       "    </tr>\n",
       "    <tr>\n",
       "      <th>14316</th>\n",
       "      <td>4</td>\n",
       "      <td>3</td>\n",
       "      <td>False</td>\n",
       "      <td>0.098145</td>\n",
       "      <td>0.109375</td>\n",
       "      <td>2.300781</td>\n",
       "      <td>2.320312</td>\n",
       "      <td>0</td>\n",
       "      <td>0.098145</td>\n",
       "      <td>0.109375</td>\n",
       "      <td>2.300781</td>\n",
       "      <td>2.320312</td>\n",
       "    </tr>\n",
       "    <tr>\n",
       "      <th>9591</th>\n",
       "      <td>1</td>\n",
       "      <td>4</td>\n",
       "      <td>False</td>\n",
       "      <td>0.091675</td>\n",
       "      <td>0.114929</td>\n",
       "      <td>2.298828</td>\n",
       "      <td>2.388672</td>\n",
       "      <td>0</td>\n",
       "      <td>0.091675</td>\n",
       "      <td>0.114929</td>\n",
       "      <td>2.298828</td>\n",
       "      <td>2.388672</td>\n",
       "    </tr>\n",
       "    <tr>\n",
       "      <th>...</th>\n",
       "      <td>...</td>\n",
       "      <td>...</td>\n",
       "      <td>...</td>\n",
       "      <td>...</td>\n",
       "      <td>...</td>\n",
       "      <td>...</td>\n",
       "      <td>...</td>\n",
       "      <td>...</td>\n",
       "      <td>...</td>\n",
       "      <td>...</td>\n",
       "      <td>...</td>\n",
       "      <td>...</td>\n",
       "    </tr>\n",
       "    <tr>\n",
       "      <th>2835776</th>\n",
       "      <td>2</td>\n",
       "      <td>49995</td>\n",
       "      <td>True</td>\n",
       "      <td>1.000000</td>\n",
       "      <td>1.000000</td>\n",
       "      <td>0.001416</td>\n",
       "      <td>0.000136</td>\n",
       "      <td>149</td>\n",
       "      <td>54.219620</td>\n",
       "      <td>116.331787</td>\n",
       "      <td>94.139816</td>\n",
       "      <td>297.383667</td>\n",
       "    </tr>\n",
       "    <tr>\n",
       "      <th>2815320</th>\n",
       "      <td>6</td>\n",
       "      <td>49996</td>\n",
       "      <td>True</td>\n",
       "      <td>0.993164</td>\n",
       "      <td>0.993164</td>\n",
       "      <td>0.045135</td>\n",
       "      <td>0.006763</td>\n",
       "      <td>149</td>\n",
       "      <td>97.001541</td>\n",
       "      <td>112.080078</td>\n",
       "      <td>103.201744</td>\n",
       "      <td>107.406837</td>\n",
       "    </tr>\n",
       "    <tr>\n",
       "      <th>2825306</th>\n",
       "      <td>9</td>\n",
       "      <td>49997</td>\n",
       "      <td>True</td>\n",
       "      <td>0.997070</td>\n",
       "      <td>0.997070</td>\n",
       "      <td>0.026108</td>\n",
       "      <td>0.003078</td>\n",
       "      <td>149</td>\n",
       "      <td>109.289062</td>\n",
       "      <td>124.027588</td>\n",
       "      <td>74.812393</td>\n",
       "      <td>82.484268</td>\n",
       "    </tr>\n",
       "    <tr>\n",
       "      <th>2816212</th>\n",
       "      <td>1</td>\n",
       "      <td>49998</td>\n",
       "      <td>True</td>\n",
       "      <td>0.999512</td>\n",
       "      <td>0.999512</td>\n",
       "      <td>0.004391</td>\n",
       "      <td>0.000430</td>\n",
       "      <td>149</td>\n",
       "      <td>141.805634</td>\n",
       "      <td>144.369873</td>\n",
       "      <td>16.299904</td>\n",
       "      <td>18.349104</td>\n",
       "    </tr>\n",
       "    <tr>\n",
       "      <th>2835766</th>\n",
       "      <td>1</td>\n",
       "      <td>49999</td>\n",
       "      <td>True</td>\n",
       "      <td>0.999512</td>\n",
       "      <td>0.999512</td>\n",
       "      <td>0.004314</td>\n",
       "      <td>0.000412</td>\n",
       "      <td>149</td>\n",
       "      <td>95.578941</td>\n",
       "      <td>115.613159</td>\n",
       "      <td>95.976051</td>\n",
       "      <td>117.454742</td>\n",
       "    </tr>\n",
       "  </tbody>\n",
       "</table>\n",
       "<p>7500000 rows × 12 columns</p>\n",
       "</div>"
      ],
      "text/plain": [
       "         y  sample_indices  correctly_predicted       p_L     p_max         H   \n",
       "6268     6               0                False  0.101929  0.114563  2.296875  \\\n",
       "13539    9               1                 True  0.112671  0.112671  2.296875   \n",
       "15896    9               2                False  0.092957  0.114685  2.292969   \n",
       "14316    4               3                False  0.098145  0.109375  2.300781   \n",
       "9591     1               4                False  0.091675  0.114929  2.298828   \n",
       "...     ..             ...                  ...       ...       ...       ...   \n",
       "2835776  2           49995                 True  1.000000  1.000000  0.001416   \n",
       "2815320  6           49996                 True  0.993164  0.993164  0.045135   \n",
       "2825306  9           49997                 True  0.997070  0.997070  0.026108   \n",
       "2816212  1           49998                 True  0.999512  0.999512  0.004391   \n",
       "2835766  1           49999                 True  0.999512  0.999512  0.004314   \n",
       "\n",
       "             loss  epoch      p_L_cs    p_max_cs        H_cs     loss_cs  \n",
       "6268     2.283203      0    0.101929    0.114563    2.296875    2.283203  \n",
       "13539    2.183594      0    0.112671    0.112671    2.296875    2.183594  \n",
       "15896    2.375000      0    0.092957    0.114685    2.292969    2.375000  \n",
       "14316    2.320312      0    0.098145    0.109375    2.300781    2.320312  \n",
       "9591     2.388672      0    0.091675    0.114929    2.298828    2.388672  \n",
       "...           ...    ...         ...         ...         ...         ...  \n",
       "2835776  0.000136    149   54.219620  116.331787   94.139816  297.383667  \n",
       "2815320  0.006763    149   97.001541  112.080078  103.201744  107.406837  \n",
       "2825306  0.003078    149  109.289062  124.027588   74.812393   82.484268  \n",
       "2816212  0.000430    149  141.805634  144.369873   16.299904   18.349104  \n",
       "2835766  0.000412    149   95.578941  115.613159   95.976051  117.454742  \n",
       "\n",
       "[7500000 rows x 12 columns]"
      ]
     },
     "execution_count": 6,
     "metadata": {},
     "output_type": "execute_result"
    }
   ],
   "source": [
    "proxy_df"
   ]
  },
  {
   "cell_type": "code",
   "execution_count": 10,
   "metadata": {
    "collapsed": false
   },
   "outputs": [],
   "source": [
    "cifar10 = torch.load(\"../data/processed/cifar10/train_c_scores.pt\")\n",
    "\n",
    "idx_to_c_score = {idx: 1 - c_score for idx, (_, _, c_score) in enumerate(cifar10)}"
   ]
  },
  {
   "cell_type": "code",
   "execution_count": 11,
   "metadata": {
    "collapsed": false
   },
   "outputs": [],
   "source": [
    "# Calculate spearman rank correlation between proxy score and c score per epoch\n",
    "\n",
    "def calculate_spearmanr(proxy_df: pd.DataFrame, epoch: int, proxy_name: str):\n",
    "    proxy_epoch = proxy_df[proxy_df[\"epoch\"] == epoch]\n",
    "\n",
    "    proxy_scores = proxy_epoch[proxy_name].values\n",
    "    c_scores = np.array([idx_to_c_score[idx] for idx in proxy_epoch[\"sample_indices\"].values])\n",
    "\n",
    "    return spearmanr(proxy_scores, c_scores).correlation"
   ]
  },
  {
   "cell_type": "code",
   "execution_count": 14,
   "metadata": {
    "collapsed": false
   },
   "outputs": [
    {
     "data": {
      "image/png": "[encoded data removed]",
      "text/plain": [
       "<Figure size 640x480 with 1 Axes>"
      ]
     },
     "metadata": {},
     "output_type": "display_data"
    }
   ],
   "source": [
    "proxies = [\"p_L_cs\", \"p_max_cs\", \"H_cs\", \"loss_cs\"]\n",
    "\n",
    "epoch_range = proxy_df[\"epoch\"].unique()\n",
    "\n",
    "fig, ax = plt.subplots()\n",
    "\n",
    "for proxy in proxies:\n",
    "    corrs = np.array([abs(calculate_spearmanr(proxy_df, epoch, proxy)) for epoch in epoch_range])\n",
    "    ax.plot(epoch_range, corrs, label=proxy)\n",
    "\n",
    "plt.legend()\n",
    "plt.show()"
   ]
  },
  {
   "cell_type": "code",
   "execution_count": 116,
   "metadata": {
    "collapsed": false
   },
   "outputs": [],
   "source": [
    "from typing import Dict\n",
    "\n",
    "\n",
    "class ProxyDataset:\n",
    "    def __init__(self, proxy_dataset_path: os.PathLike):\n",
    "        self.proxy_df = None\n",
    "        self.proxy_dataset_path = proxy_dataset_path\n",
    "        self.proxy_dataset = pq.ParquetDataset(proxy_dataset_path)\n",
    "\n",
    "    def load(self, columns: list = None):\n",
    "        self.proxy_df = self.proxy_dataset.read(columns=columns).to_pandas()\n",
    "        self.proxy_df[\"epoch\"] = self.proxy_df[\"epoch\"].astype(int)\n",
    "\n",
    "        return self.proxy_df\n",
    "\n",
    "    def calculate_proxy_scores(self, proxy_name: str) -> Dict[int, float]:\n",
    "        scores = self.proxy_df.groupby([\"sample_indices\"]).agg({proxy_name: \"sum\"})\n",
    "\n",
    "        scores[proxy_name] = (scores[proxy_name] - scores[proxy_name].min()) / (\n",
    "                    scores[proxy_name].max() - scores[proxy_name].min())\n",
    "\n",
    "        return scores[proxy_name].to_dict()"
   ]
  },
  {
   "cell_type": "code",
   "execution_count": 124,
   "metadata": {
    "collapsed": false
   },
   "outputs": [],
   "source": [
    "proxy_ds = ProxyDataset(\"../models/proxies/speechcommands-m5-large-20230424_0751\")\n",
    "proxy_ds.load()\n",
    "\n",
    "proxy_scores = proxy_ds.calculate_proxy_scores(\"p_max\")"
   ]
  },
  {
   "cell_type": "code",
   "execution_count": 125,
   "metadata": {
    "collapsed": false
   },
   "outputs": [
    {
     "data": {
      "text/plain": [
       "(array([  342.,   260.,   184.,   128.,    98.,   116.,   106.,    96.,\n",
       "           99.,    88.,    87.,   111.,   121.,   114.,   137.,   135.,\n",
       "          134.,   126.,   149.,   139.,   160.,   172.,   164.,   190.,\n",
       "          192.,   206.,   268.,   284.,   308.,   303.,   331.,   350.,\n",
       "          384.,   431.,   483.,   480.,   612.,   674.,   777.,   867.,\n",
       "         1044.,  1159.,  1363.,  1630.,  2122.,  2949.,  4277.,  6923.,\n",
       "        14755., 38215.]),\n",
       " array([0.  , 0.02, 0.04, 0.06, 0.08, 0.1 , 0.12, 0.14, 0.16, 0.18, 0.2 ,\n",
       "        0.22, 0.24, 0.26, 0.28, 0.3 , 0.32, 0.34, 0.36, 0.38, 0.4 , 0.42,\n",
       "        0.44, 0.46, 0.48, 0.5 , 0.52, 0.54, 0.56, 0.58, 0.6 , 0.62, 0.64,\n",
       "        0.66, 0.68, 0.7 , 0.72, 0.74, 0.76, 0.78, 0.8 , 0.82, 0.84, 0.86,\n",
       "        0.88, 0.9 , 0.92, 0.94, 0.96, 0.98, 1.  ]),\n",
       " <BarContainer object of 50 artists>)"
      ]
     },
     "execution_count": 125,
     "metadata": {},
     "output_type": "execute_result"
    },
    {
     "data": {
      "image/png": "[encoded data removed]",
      "text/plain": [
       "<Figure size 640x480 with 1 Axes>"
      ]
     },
     "metadata": {},
     "output_type": "display_data"
    }
   ],
   "source": [
    "# plot the proxy score histogram\n",
    "\n",
    "plt.hist(proxy_scores.values(), bins=50)"
   ]
  }
 ],
 "metadata": {
  "kernelspec": {
   "display_name": "Python 3",
   "language": "python",
   "name": "python3"
  },
  "language_info": {
   "codemirror_mode": {
    "name": "ipython",
    "version": 3
   },
   "file_extension": ".py",
   "mimetype": "text/x-python",
   "name": "python",
   "nbconvert_exporter": "python",
   "pygments_lexer": "ipython3",
   "version": "3.10.9"
  }
 },
 "nbformat": 4,
 "nbformat_minor": 0
}
