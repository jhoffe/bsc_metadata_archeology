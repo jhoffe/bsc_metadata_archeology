{
 "cells": [
  {
   "cell_type": "code",
   "execution_count": 101,
   "metadata": {
    "collapsed": true
   },
   "outputs": [],
   "source": [
    "import pyarrow.parquet as pq\n",
    "import pandas as pd\n",
    "import numpy as np\n",
    "import matplotlib.pyplot as plt\n",
    "import seaborn as sns\n",
    "import os\n",
    "import torch\n",
    "from scipy.stats import spearmanr"
   ]
  },
  {
   "cell_type": "code",
   "execution_count": 102,
   "metadata": {
    "collapsed": false
   },
   "outputs": [],
   "source": [
    "class ProxyDataset:\n",
    "    def __init__(self, proxy_dataset_path: os.PathLike):\n",
    "        self.proxy_df = None\n",
    "        self.proxy_dataset_path = proxy_dataset_path\n",
    "        self.proxy_dataset = pq.ParquetDataset(proxy_dataset_path)\n",
    "\n",
    "    def load(self, columns: list = None):\n",
    "        self.proxy_df = self.proxy_dataset.read(columns=columns).to_pandas()\n",
    "\n",
    "        return self.proxy_df\n",
    "\n",
    "    def calculate_proxy_score_per_epoch(self, epoch: int, proxy_name: str):\n",
    "        return self.proxy_df.loc[self.proxy_df['epoch'] == epoch, proxy_name].mean()"
   ]
  },
  {
   "cell_type": "code",
   "execution_count": 103,
   "metadata": {
    "collapsed": false
   },
   "outputs": [],
   "source": [
    "proxy_dataset = ProxyDataset(\"../models/proxies/cifar100-proxy-20230420_0900\")\n",
    "\n",
    "proxy_df = proxy_dataset.load()\n",
    "\n",
    "proxy_df[\"epoch\"] = proxy_df[\"epoch\"].astype(int)\n",
    "\n",
    "proxy_df.sort_values(by=[\"epoch\", \"sample_indices\"], inplace=True)"
   ]
  },
  {
   "cell_type": "code",
   "execution_count": 104,
   "metadata": {
    "collapsed": false
   },
   "outputs": [],
   "source": [
    "def calculate_proxy_score_per_epoch(proxy_df: pd.DataFrame, proxy_name: str):\n",
    "    return proxy_df.groupby([\"sample_indices\"]).agg({proxy_name: \"cumsum\"})"
   ]
  },
  {
   "cell_type": "code",
   "execution_count": 105,
   "metadata": {
    "collapsed": false
   },
   "outputs": [],
   "source": [
    "proxy_df[\"p_L_cs\"] = calculate_proxy_score_per_epoch(proxy_df, \"p_L\")\n",
    "proxy_df[\"p_max_cs\"] = calculate_proxy_score_per_epoch(proxy_df, \"p_max\")\n",
    "proxy_df[\"H_cs\"] = calculate_proxy_score_per_epoch(proxy_df, \"H\")\n",
    "proxy_df[\"loss_cs\"] = calculate_proxy_score_per_epoch(proxy_df, \"loss\")"
   ]
  },
  {
   "cell_type": "code",
   "execution_count": 106,
   "metadata": {
    "collapsed": false
   },
   "outputs": [
    {
     "data": {
      "text/html": [
       "<div>\n",
       "<style scoped>\n",
       "    .dataframe tbody tr th:only-of-type {\n",
       "        vertical-align: middle;\n",
       "    }\n",
       "\n",
       "    .dataframe tbody tr th {\n",
       "        vertical-align: top;\n",
       "    }\n",
       "\n",
       "    .dataframe thead th {\n",
       "        text-align: right;\n",
       "    }\n",
       "</style>\n",
       "<table border=\"1\" class=\"dataframe\">\n",
       "  <thead>\n",
       "    <tr style=\"text-align: right;\">\n",
       "      <th></th>\n",
       "      <th>y</th>\n",
       "      <th>sample_indices</th>\n",
       "      <th>correctly_predicted</th>\n",
       "      <th>p_L</th>\n",
       "      <th>p_max</th>\n",
       "      <th>H</th>\n",
       "      <th>epoch</th>\n",
       "      <th>p_L_cs</th>\n",
       "      <th>p_max_cs</th>\n",
       "      <th>H_cs</th>\n",
       "    </tr>\n",
       "  </thead>\n",
       "  <tbody>\n",
       "    <tr>\n",
       "      <th>7969</th>\n",
       "      <td>19</td>\n",
       "      <td>0</td>\n",
       "      <td>False</td>\n",
       "      <td>0.009132</td>\n",
       "      <td>0.011559</td>\n",
       "      <td>4.601562</td>\n",
       "      <td>0</td>\n",
       "      <td>0.009132</td>\n",
       "      <td>0.011559</td>\n",
       "      <td>4.601562</td>\n",
       "    </tr>\n",
       "    <tr>\n",
       "      <th>41897</th>\n",
       "      <td>29</td>\n",
       "      <td>1</td>\n",
       "      <td>False</td>\n",
       "      <td>0.009872</td>\n",
       "      <td>0.011864</td>\n",
       "      <td>4.597656</td>\n",
       "      <td>0</td>\n",
       "      <td>0.009872</td>\n",
       "      <td>0.011864</td>\n",
       "      <td>4.597656</td>\n",
       "    </tr>\n",
       "    <tr>\n",
       "      <th>38101</th>\n",
       "      <td>0</td>\n",
       "      <td>2</td>\n",
       "      <td>False</td>\n",
       "      <td>0.008224</td>\n",
       "      <td>0.011536</td>\n",
       "      <td>4.597656</td>\n",
       "      <td>0</td>\n",
       "      <td>0.008224</td>\n",
       "      <td>0.011536</td>\n",
       "      <td>4.597656</td>\n",
       "    </tr>\n",
       "    <tr>\n",
       "      <th>40371</th>\n",
       "      <td>11</td>\n",
       "      <td>3</td>\n",
       "      <td>False</td>\n",
       "      <td>0.009865</td>\n",
       "      <td>0.011848</td>\n",
       "      <td>4.597656</td>\n",
       "      <td>0</td>\n",
       "      <td>0.009865</td>\n",
       "      <td>0.011848</td>\n",
       "      <td>4.597656</td>\n",
       "    </tr>\n",
       "    <tr>\n",
       "      <th>14368</th>\n",
       "      <td>1</td>\n",
       "      <td>4</td>\n",
       "      <td>False</td>\n",
       "      <td>0.010460</td>\n",
       "      <td>0.011650</td>\n",
       "      <td>4.601562</td>\n",
       "      <td>0</td>\n",
       "      <td>0.010460</td>\n",
       "      <td>0.011650</td>\n",
       "      <td>4.601562</td>\n",
       "    </tr>\n",
       "    <tr>\n",
       "      <th>...</th>\n",
       "      <td>...</td>\n",
       "      <td>...</td>\n",
       "      <td>...</td>\n",
       "      <td>...</td>\n",
       "      <td>...</td>\n",
       "      <td>...</td>\n",
       "      <td>...</td>\n",
       "      <td>...</td>\n",
       "      <td>...</td>\n",
       "      <td>...</td>\n",
       "    </tr>\n",
       "    <tr>\n",
       "      <th>2833209</th>\n",
       "      <td>80</td>\n",
       "      <td>49995</td>\n",
       "      <td>True</td>\n",
       "      <td>0.998047</td>\n",
       "      <td>0.998047</td>\n",
       "      <td>0.023193</td>\n",
       "      <td>149</td>\n",
       "      <td>68.407074</td>\n",
       "      <td>89.497055</td>\n",
       "      <td>238.485367</td>\n",
       "    </tr>\n",
       "    <tr>\n",
       "      <th>2810160</th>\n",
       "      <td>7</td>\n",
       "      <td>49996</td>\n",
       "      <td>True</td>\n",
       "      <td>1.000000</td>\n",
       "      <td>1.000000</td>\n",
       "      <td>0.001012</td>\n",
       "      <td>149</td>\n",
       "      <td>112.589432</td>\n",
       "      <td>115.730896</td>\n",
       "      <td>134.821548</td>\n",
       "    </tr>\n",
       "    <tr>\n",
       "      <th>2820259</th>\n",
       "      <td>3</td>\n",
       "      <td>49997</td>\n",
       "      <td>True</td>\n",
       "      <td>1.000000</td>\n",
       "      <td>1.000000</td>\n",
       "      <td>0.002083</td>\n",
       "      <td>149</td>\n",
       "      <td>88.766388</td>\n",
       "      <td>106.803894</td>\n",
       "      <td>146.057632</td>\n",
       "    </tr>\n",
       "    <tr>\n",
       "      <th>2844181</th>\n",
       "      <td>7</td>\n",
       "      <td>49998</td>\n",
       "      <td>True</td>\n",
       "      <td>0.991699</td>\n",
       "      <td>0.991699</td>\n",
       "      <td>0.072571</td>\n",
       "      <td>149</td>\n",
       "      <td>64.147720</td>\n",
       "      <td>84.722656</td>\n",
       "      <td>248.219162</td>\n",
       "    </tr>\n",
       "    <tr>\n",
       "      <th>2824674</th>\n",
       "      <td>73</td>\n",
       "      <td>49999</td>\n",
       "      <td>True</td>\n",
       "      <td>1.000000</td>\n",
       "      <td>1.000000</td>\n",
       "      <td>0.002031</td>\n",
       "      <td>149</td>\n",
       "      <td>132.855927</td>\n",
       "      <td>133.712784</td>\n",
       "      <td>62.537930</td>\n",
       "    </tr>\n",
       "  </tbody>\n",
       "</table>\n",
       "<p>7500000 rows × 10 columns</p>\n",
       "</div>"
      ],
      "text/plain": [
       "          y  sample_indices  correctly_predicted       p_L     p_max   \n",
       "7969     19               0                False  0.009132  0.011559  \\\n",
       "41897    29               1                False  0.009872  0.011864   \n",
       "38101     0               2                False  0.008224  0.011536   \n",
       "40371    11               3                False  0.009865  0.011848   \n",
       "14368     1               4                False  0.010460  0.011650   \n",
       "...      ..             ...                  ...       ...       ...   \n",
       "2833209  80           49995                 True  0.998047  0.998047   \n",
       "2810160   7           49996                 True  1.000000  1.000000   \n",
       "2820259   3           49997                 True  1.000000  1.000000   \n",
       "2844181   7           49998                 True  0.991699  0.991699   \n",
       "2824674  73           49999                 True  1.000000  1.000000   \n",
       "\n",
       "                H  epoch      p_L_cs    p_max_cs        H_cs  \n",
       "7969     4.601562      0    0.009132    0.011559    4.601562  \n",
       "41897    4.597656      0    0.009872    0.011864    4.597656  \n",
       "38101    4.597656      0    0.008224    0.011536    4.597656  \n",
       "40371    4.597656      0    0.009865    0.011848    4.597656  \n",
       "14368    4.601562      0    0.010460    0.011650    4.601562  \n",
       "...           ...    ...         ...         ...         ...  \n",
       "2833209  0.023193    149   68.407074   89.497055  238.485367  \n",
       "2810160  0.001012    149  112.589432  115.730896  134.821548  \n",
       "2820259  0.002083    149   88.766388  106.803894  146.057632  \n",
       "2844181  0.072571    149   64.147720   84.722656  248.219162  \n",
       "2824674  0.002031    149  132.855927  133.712784   62.537930  \n",
       "\n",
       "[7500000 rows x 10 columns]"
      ]
     },
     "execution_count": 106,
     "metadata": {},
     "output_type": "execute_result"
    }
   ],
   "source": [
    "proxy_df"
   ]
  },
  {
   "cell_type": "code",
   "execution_count": 107,
   "metadata": {
    "collapsed": false
   },
   "outputs": [],
   "source": [
    "cifar10 = torch.load(\"../data/processed/cifar100/train_c_scores.pt\")\n",
    "\n",
    "idx_to_c_score = {idx: 1 - c_score for idx, (_, _, c_score) in enumerate(cifar10)}"
   ]
  },
  {
   "cell_type": "code",
   "execution_count": 108,
   "metadata": {
    "collapsed": false
   },
   "outputs": [],
   "source": [
    "# Calculate spearman rank correlation between proxy score and c score per epoch\n",
    "\n",
    "def calculate_spearmanr(proxy_df: pd.DataFrame, epoch: int, proxy_name: str):\n",
    "    proxy_epoch = proxy_df[proxy_df[\"epoch\"] == epoch]\n",
    "\n",
    "    proxy_scores = proxy_epoch[proxy_name].values\n",
    "    c_scores = np.array([idx_to_c_score[idx] for idx in proxy_epoch[\"sample_indices\"].values])\n",
    "\n",
    "    return spearmanr(proxy_scores, c_scores).correlation"
   ]
  },
  {
   "cell_type": "code",
   "execution_count": 109,
   "metadata": {
    "collapsed": false
   },
   "outputs": [
    {
     "data": {
      "image/png": "[encoded data removed]",
      "text/plain": [
       "<Figure size 640x480 with 1 Axes>"
      ]
     },
     "metadata": {},
     "output_type": "display_data"
    }
   ],
   "source": [
    "proxies = [\"p_L_cs\", \"p_max_cs\", \"H_cs\", \"loss_cs\"]\n",
    "\n",
    "epoch_range = proxy_df[\"epoch\"].unique()\n",
    "\n",
    "fig, ax = plt.subplots()\n",
    "\n",
    "for proxy in proxies:\n",
    "    corrs = np.array([abs(calculate_spearmanr(proxy_df, epoch, proxy)) for epoch in epoch_range])\n",
    "    ax.plot(epoch_range, corrs, label=proxy)\n",
    "\n",
    "plt.legend()\n",
    "plt.show()"
   ]
  },
  {
   "cell_type": "code",
   "execution_count": 116,
   "metadata": {
    "collapsed": false
   },
   "outputs": [],
   "source": [
    "from typing import Dict\n",
    "\n",
    "\n",
    "class ProxyDataset:\n",
    "    def __init__(self, proxy_dataset_path: os.PathLike):\n",
    "        self.proxy_df = None\n",
    "        self.proxy_dataset_path = proxy_dataset_path\n",
    "        self.proxy_dataset = pq.ParquetDataset(proxy_dataset_path)\n",
    "\n",
    "    def load(self, columns: list = None):\n",
    "        self.proxy_df = self.proxy_dataset.read(columns=columns).to_pandas()\n",
    "        self.proxy_df[\"epoch\"] = self.proxy_df[\"epoch\"].astype(int)\n",
    "\n",
    "        return self.proxy_df\n",
    "\n",
    "    def calculate_proxy_scores(self, proxy_name: str) -> Dict[int, float]:\n",
    "        scores = self.proxy_df.groupby([\"sample_indices\"]).agg({proxy_name: \"sum\"})\n",
    "\n",
    "        scores[proxy_name] = (scores[proxy_name] - scores[proxy_name].min()) / (\n",
    "                    scores[proxy_name].max() - scores[proxy_name].min())\n",
    "\n",
    "        return scores[proxy_name].to_dict()"
   ]
  },
  {
   "cell_type": "code",
   "execution_count": 124,
   "metadata": {
    "collapsed": false
   },
   "outputs": [],
   "source": [
    "proxy_ds = ProxyDataset(\"../models/proxies/speechcommands-m5-large-20230424_0751\")\n",
    "proxy_ds.load()\n",
    "\n",
    "proxy_scores = proxy_ds.calculate_proxy_scores(\"p_max\")"
   ]
  },
  {
   "cell_type": "code",
   "execution_count": 125,
   "metadata": {
    "collapsed": false
   },
   "outputs": [
    {
     "data": {
      "text/plain": [
       "(array([  342.,   260.,   184.,   128.,    98.,   116.,   106.,    96.,\n",
       "           99.,    88.,    87.,   111.,   121.,   114.,   137.,   135.,\n",
       "          134.,   126.,   149.,   139.,   160.,   172.,   164.,   190.,\n",
       "          192.,   206.,   268.,   284.,   308.,   303.,   331.,   350.,\n",
       "          384.,   431.,   483.,   480.,   612.,   674.,   777.,   867.,\n",
       "         1044.,  1159.,  1363.,  1630.,  2122.,  2949.,  4277.,  6923.,\n",
       "        14755., 38215.]),\n",
       " array([0.  , 0.02, 0.04, 0.06, 0.08, 0.1 , 0.12, 0.14, 0.16, 0.18, 0.2 ,\n",
       "        0.22, 0.24, 0.26, 0.28, 0.3 , 0.32, 0.34, 0.36, 0.38, 0.4 , 0.42,\n",
       "        0.44, 0.46, 0.48, 0.5 , 0.52, 0.54, 0.56, 0.58, 0.6 , 0.62, 0.64,\n",
       "        0.66, 0.68, 0.7 , 0.72, 0.74, 0.76, 0.78, 0.8 , 0.82, 0.84, 0.86,\n",
       "        0.88, 0.9 , 0.92, 0.94, 0.96, 0.98, 1.  ]),\n",
       " <BarContainer object of 50 artists>)"
      ]
     },
     "execution_count": 125,
     "metadata": {},
     "output_type": "execute_result"
    },
    {
     "data": {
      "image/png": "[encoded data removed]",
      "text/plain": [
       "<Figure size 640x480 with 1 Axes>"
      ]
     },
     "metadata": {},
     "output_type": "display_data"
    }
   ],
   "source": [
    "# plot the proxy score histogram\n",
    "\n",
    "plt.hist(proxy_scores.values(), bins=50)"
   ]
  }
 ],
 "metadata": {
  "kernelspec": {
   "display_name": "Python 3",
   "language": "python",
   "name": "python3"
  },
  "language_info": {
   "codemirror_mode": {
    "name": "ipython",
    "version": 2
   },
   "file_extension": ".py",
   "mimetype": "text/x-python",
   "name": "python",
   "nbconvert_exporter": "python",
   "pygments_lexer": "ipython2",
   "version": "2.7.6"
  }
 },
 "nbformat": 4,
 "nbformat_minor": 0
}
